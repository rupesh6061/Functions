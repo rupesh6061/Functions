{
 "cells": [
  {
   "cell_type": "markdown",
   "id": "ccd0a46c-85c8-4dc1-9ccc-f5b0c7b35a01",
   "metadata": {},
   "source": [
    "#Functions\n",
    "---"
   ]
  },
  {
   "cell_type": "markdown",
   "id": "a72bedbd-a208-482a-b138-e2663bebd84f",
   "metadata": {},
   "source": [
    "1. **What is the difference between a function and a method in Python?**\n",
    " - **Function** - It is a block of resuable code  defined using def keyword and can be called independently.\n",
    " - **Method** - It is a function defined inside a class and called on the instance of class "
   ]
  },
  {
   "cell_type": "code",
   "execution_count": 10,
   "id": "2a625d04-b6ae-4563-a729-c41b5b0750ff",
   "metadata": {},
   "outputs": [
    {
     "name": "stdout",
     "output_type": "stream",
     "text": [
      "25\n"
     ]
    }
   ],
   "source": [
    "#Function example\n",
    "def func(x,y):\n",
    "    return x*y\n",
    "print(func(5,5))"
   ]
  },
  {
   "cell_type": "code",
   "execution_count": 16,
   "id": "84b39049-a952-4de5-9cdc-1b891c952ddf",
   "metadata": {},
   "outputs": [
    {
     "data": {
      "text/plain": [
       "12"
      ]
     },
     "execution_count": 16,
     "metadata": {},
     "output_type": "execute_result"
    }
   ],
   "source": [
    "#Method example\n",
    "class Myfunc:\n",
    "    def __init__(self, x, y):\n",
    "        self.x = x\n",
    "        self.y = y\n",
    "    def multiply(self, x, y):\n",
    "        return self.x*self.y\n",
    "obj = Myfunc(3,4)\n",
    "obj.multiply(3,4)\n"
   ]
  },
  {
   "cell_type": "markdown",
   "id": "c5f9e1cf-6972-4be9-ab82-ac4bf3a4b865",
   "metadata": {},
   "source": [
    "2. **Explain the concept of function arguments and parameters in Python?**\n",
    "- **Parameters** -  Variable written in a function definition. \n",
    "- **Arguments** - Actual values passed while calling the function."
   ]
  },
  {
   "cell_type": "code",
   "execution_count": 29,
   "id": "36b1f38b-3b4e-40b8-9611-b563c1aeb168",
   "metadata": {},
   "outputs": [
    {
     "name": "stdout",
     "output_type": "stream",
     "text": [
      "5\n"
     ]
    }
   ],
   "source": [
    "def sub(a,b): # a,b are parameters\n",
    "    return a-b\n",
    "print(sub(10,5)) # 10, 5 are  arguments "
   ]
  },
  {
   "cell_type": "code",
   "execution_count": 37,
   "id": "66d9bd5b-af8c-4ced-9a25-056663c69931",
   "metadata": {},
   "outputs": [
    {
     "name": "stdout",
     "output_type": "stream",
     "text": [
      "hello world\n"
     ]
    }
   ],
   "source": [
    "#3. What are the different ways to define and call a function in Python?\n",
    "def func():\n",
    "    print(\"hello world\")\n",
    "func()"
   ]
  },
  {
   "cell_type": "code",
   "execution_count": 41,
   "id": "152087e1-3f5f-4da2-b656-10c38e2153a2",
   "metadata": {},
   "outputs": [
    {
     "name": "stdout",
     "output_type": "stream",
     "text": [
      "15\n"
     ]
    }
   ],
   "source": [
    "def func(a,b):\n",
    "    print(a*b)\n",
    "func(3,5)"
   ]
  },
  {
   "cell_type": "code",
   "execution_count": 47,
   "id": "278ec561-daf1-4b60-b036-b6897f0a8d5f",
   "metadata": {},
   "outputs": [
    {
     "name": "stdout",
     "output_type": "stream",
     "text": [
      "Money is the key to Success\n"
     ]
    }
   ],
   "source": [
    "def func(a = \"Success\"):\n",
    "    return f\"Money is the key to {a}\"\n",
    "print(func())"
   ]
  },
  {
   "cell_type": "code",
   "execution_count": 49,
   "id": "950f768c-203a-4425-9530-fb5b045ecd84",
   "metadata": {},
   "outputs": [
    {
     "name": "stdout",
     "output_type": "stream",
     "text": [
      "25\n"
     ]
    }
   ],
   "source": [
    "a = lambda x:x**2\n",
    "print(a(5))"
   ]
  },
  {
   "cell_type": "code",
   "execution_count": 53,
   "id": "ac5e2949-ae47-40df-ba19-f2fab7e2b3db",
   "metadata": {},
   "outputs": [
    {
     "data": {
      "text/plain": [
       "25"
      ]
     },
     "execution_count": 53,
     "metadata": {},
     "output_type": "execute_result"
    }
   ],
   "source": [
    "class Math:\n",
    "    def square(self,x):\n",
    "        return x*x\n",
    "obj = Math()\n",
    "obj.square(5)"
   ]
  },
  {
   "cell_type": "markdown",
   "id": "119b34ec-c269-4f97-a67e-cecf0363cac3",
   "metadata": {},
   "source": [
    "4. **What is the purpose of the `return` statement in a Python function?**\n",
    "- Return statement is used to exits a function and return a value upon calling.On default it return None"
   ]
  },
  {
   "cell_type": "code",
   "execution_count": 56,
   "id": "627c31f8-728d-4ab3-8992-025f687bba52",
   "metadata": {},
   "outputs": [
    {
     "name": "stdout",
     "output_type": "stream",
     "text": [
      "Money is the key to Success\n"
     ]
    }
   ],
   "source": [
    "def func(a = \"Success\"):\n",
    "    return f\"Money is the key to {a}\"\n",
    "print(func())"
   ]
  },
  {
   "cell_type": "markdown",
   "id": "83266ae0-f9c8-48cc-9205-118a08a5b2b5",
   "metadata": {},
   "source": [
    "5. **What are iterators in Python and how do they differ from iterables?**\n",
    "-  Iterator is an object used to traversal through a countable number of values.\n",
    "-  **iter()** function is used to create a iterator containing a iterable object.**next()** function is used to call next element in the iterable          object.\n",
    "-  **Iterables** is the object containing multiple elements e.g. list ,tuple and can be iterated over."
   ]
  },
  {
   "cell_type": "code",
   "execution_count": 2,
   "id": "9dc40b10-1205-41ba-a642-579851dff5b0",
   "metadata": {},
   "outputs": [
    {
     "name": "stdout",
     "output_type": "stream",
     "text": [
      "1\n"
     ]
    }
   ],
   "source": [
    "#example\n",
    "my_list = [1,2,3] #iterables\n",
    "obj = iter(my_list) #iterator\n",
    "print(next(obj))"
   ]
  },
  {
   "cell_type": "markdown",
   "id": "59c7f8b9-0956-41ee-9dc4-827f5749e9a4",
   "metadata": {},
   "source": [
    " 6. **Explain the concept of generators in Python and how they are defined?**\n",
    " -  Generators are used to create iterator using function and yield keyword is used to return values."
   ]
  },
  {
   "cell_type": "code",
   "execution_count": 21,
   "id": "f1470d8b-a778-4823-9755-2f1350b94b3d",
   "metadata": {},
   "outputs": [
    {
     "name": "stdout",
     "output_type": "stream",
     "text": [
      "0\n",
      "1\n",
      "2\n",
      "3\n",
      "4\n"
     ]
    }
   ],
   "source": [
    "#Generators example\n",
    "def my_gen(n):\n",
    "    for i in range(n):\n",
    "        yield i\n",
    "for y in my_gen(5):\n",
    "    print(y)"
   ]
  },
  {
   "cell_type": "markdown",
   "id": "90f3a561-f4da-43ef-8541-02d4c1529429",
   "metadata": {},
   "source": [
    " 7. **What are the advantages of using generators over regular functions?**\n",
    " -  Memory efficient - Generator generates the values on the go, means they dont need to store values making them memory efficient.That's why they are      useful for large datasets. They are faster to execute thereby increasing performace."
   ]
  },
  {
   "cell_type": "markdown",
   "id": "d40d346e-b2d0-4769-a5cf-5bbcbe5441de",
   "metadata": {},
   "source": [
    "#example\n",
    "def my_gen(n):\n",
    "    for i in range(n):\n",
    "        yield i\n",
    "obj = my_gen(5)\n",
    "print(next(obj))\n",
    "print(next(obj))"
   ]
  },
  {
   "cell_type": "markdown",
   "id": "45ed6886-9bb2-4276-9f49-f16da0879f4c",
   "metadata": {},
   "source": [
    " 8. **What is a lambda function in Python and when is it typically used?**\n",
    " -  Lambda are  anonymous one liner function defined using lambda keyword.\n",
    " -  They are useful for writing small operations genearlly in one line\n",
    " -  These can be used as an arguments with higher order functions, eliminating the need to define a seperate function "
   ]
  },
  {
   "cell_type": "code",
   "execution_count": 42,
   "id": "7f689880-ba33-4690-b583-3a5e59d7f449",
   "metadata": {},
   "outputs": [
    {
     "name": "stdout",
     "output_type": "stream",
     "text": [
      "9\n"
     ]
    }
   ],
   "source": [
    "#example\n",
    "y = lambda x,y: x+y\n",
    "print(y(4,5))"
   ]
  },
  {
   "cell_type": "markdown",
   "id": "0607e4b5-abbd-4b90-be13-3229266ef999",
   "metadata": {},
   "source": [
    " 9. **Explain the purpose and usage of the `map()` function in Python?**\n",
    " -  map()  is used to apply a function to every element in an iterable.It is a concise way to perform similar function to every element in sequence.\n",
    " -  It is used because it's simple and concise.It eliminates the need of using for therefore making it efficient and it can be used with multiple \n",
    "    iterables "
   ]
  },
  {
   "cell_type": "code",
   "execution_count": 44,
   "id": "805c1b13-7c75-42a2-9dc0-b837eec8d79d",
   "metadata": {},
   "outputs": [
    {
     "name": "stdout",
     "output_type": "stream",
     "text": [
      "[1, 4, 9, 16, 25]\n"
     ]
    }
   ],
   "source": [
    "#example\n",
    "x = [1,2,3,4,5]\n",
    "y = list(map(lambda x: x**2,x))\n",
    "print(y)"
   ]
  },
  {
   "cell_type": "markdown",
   "id": "a59a3abf-9d71-488e-9cd9-bd37389fba5a",
   "metadata": {},
   "source": [
    "  10. **What is the difference between `map()`, `reduce()`, and `filter()` functions in Python?**\n",
    "  -   **map()** It applies a function to each element in iterables.These are useful for performing same function to each element in sequence.\n",
    "  -   **reduce()** It is used to reduce all elements in iterable to a single value\n",
    "  -   **filter()** It filter the elements based on specific condition.It is useful for selecting specific data.\n",
    "\n"
   ]
  },
  {
   "cell_type": "markdown",
   "id": "a213e4f3-f04b-4578-b9d2-77e28be8bbc4",
   "metadata": {},
   "source": [
    "11. **Using pen & Paper write the internal mechanism for sum operation using  reduce function on this given list:[47,11,42,13];**\n",
    " -  Step1: [58,42,13]\n",
    " -  Step2: [100,13]\n",
    " -  Step3: [113]\n",
    " -  https://drive.google.com/file/d/1lahAl-Ru2EfEkWk35fisK32glg71qDl2/view?usp=drive_link"
   ]
  },
  {
   "cell_type": "code",
   "execution_count": 46,
   "id": "a666f163-efab-4c3e-8586-f90dd4db1d9d",
   "metadata": {},
   "outputs": [
    {
     "name": "stdout",
     "output_type": "stream",
     "text": [
      "[1, 4, 9, 16, 25]\n"
     ]
    }
   ],
   "source": [
    "# map() example\n",
    "x = [1,2,3,4,5]\n",
    "y = list(map(lambda x: x**2,x))\n",
    "print(y)"
   ]
  },
  {
   "cell_type": "code",
   "execution_count": 56,
   "id": "d3be2757-d33d-436c-80bf-ad0992868d00",
   "metadata": {},
   "outputs": [
    {
     "name": "stdout",
     "output_type": "stream",
     "text": [
      "15\n"
     ]
    }
   ],
   "source": [
    "# reduce() example\n",
    "from functools import reduce\n",
    "x = [1,2,3,4,5]\n",
    "y = reduce(lambda x,y:x+y,x)\n",
    "print(y)"
   ]
  },
  {
   "cell_type": "code",
   "execution_count": 52,
   "id": "e270121b-d18d-4d9e-8fac-7d1477d168f6",
   "metadata": {},
   "outputs": [
    {
     "name": "stdout",
     "output_type": "stream",
     "text": [
      "[2, 4]\n"
     ]
    }
   ],
   "source": [
    "# filter() example\n",
    "x = [1,2,3,4,5]\n",
    "y = list(filter(lambda x: x%2 == 0,x))\n",
    "print(y)\n"
   ]
  },
  {
   "cell_type": "raw",
   "id": "90706258-f7f9-448b-ba6b-2317906eece1",
   "metadata": {},
   "source": [
    "11. **Using pen & Paper write the internal mechanism for sum operation using  reduce function on this given  list:[47,11,42,13];**"
   ]
  },
  {
   "cell_type": "code",
   "execution_count": 76,
   "id": "7c72e74e-1c12-426e-bd0f-db0faa17b63f",
   "metadata": {},
   "outputs": [
    {
     "name": "stdout",
     "output_type": "stream",
     "text": [
      "6\n"
     ]
    }
   ],
   "source": [
    "# 1. Write a Python function that takes a list of numbers as input and returns the sum of all even numbers in \n",
    "#the list\n",
    "def add(x): \n",
    "    total =  sum([i for i in x if i%2==0])\n",
    "    return total\n",
    "print(add([1,2,3,4,5]))\n"
   ]
  },
  {
   "cell_type": "code",
   "execution_count": 92,
   "id": "6035542b-2604-449c-bfc8-9bbb1e7787c7",
   "metadata": {},
   "outputs": [
    {
     "name": "stdout",
     "output_type": "stream",
     "text": [
      "AMAR\n"
     ]
    }
   ],
   "source": [
    "# 2. Create a Python function that accepts a string and returns the reverse of that string.\n",
    "def rev(x):\n",
    "    return (x[::-1])\n",
    "print(rev(\"RAMA\"))"
   ]
  },
  {
   "cell_type": "code",
   "execution_count": 94,
   "id": "3ed14d4a-8f23-4ffd-9370-4e44d23177ef",
   "metadata": {},
   "outputs": [
    {
     "name": "stdout",
     "output_type": "stream",
     "text": [
      "[1, 4, 9, 16, 25]\n"
     ]
    }
   ],
   "source": [
    "#3. Implement a Python function that takes a list of integers and returns a new list containing the squares of each number.\n",
    "def square(n):\n",
    "    y = list(map(lambda x:x**2,n))\n",
    "    return y\n",
    "print(square([1,2,3,4,5]))"
   ]
  },
  {
   "cell_type": "code",
   "execution_count": 1,
   "id": "8fef92a5-e0a2-4377-bfc2-69fd4a82aa78",
   "metadata": {},
   "outputs": [
    {
     "name": "stdout",
     "output_type": "stream",
     "text": [
      "[2, 3, 4, 5, 7, 9, 11, 13, 17, 19, 23, 25, 29, 31, 37, 41, 43, 47, 49, 53, 59, 61, 67, 71, 73, 79, 83, 89, 97, 101, 103, 107, 109, 113, 121, 127, 131, 137, 139, 149, 151, 157, 163, 167, 169, 173, 179, 181, 191, 193, 197, 199]\n"
     ]
    }
   ],
   "source": [
    "#4. Write a Python function that checks if a given number is prime or not from 1 to 200.\n",
    "def prime(n):\n",
    "    if n<2:\n",
    "        return False\n",
    "    i = 2\n",
    "    while i*i < n:\n",
    "        if n%i == 0:\n",
    "            return False\n",
    "        i += 1\n",
    "    return True\n",
    "prime_no = [x for x in range(1,201) if prime(x)]\n",
    "print(prime_no)"
   ]
  },
  {
   "cell_type": "code",
   "execution_count": 15,
   "id": "9ce59bcf-3356-4c5f-ba83-018a626bb972",
   "metadata": {},
   "outputs": [
    {
     "name": "stdout",
     "output_type": "stream",
     "text": [
      "0 1 1 2 3 5 8 13 21 34 "
     ]
    }
   ],
   "source": [
    "#5. Create an iterator class in Python that generates the Fibonacci sequence up to a specified number of terms.\n",
    "class FiboIterator:\n",
    "    def __init__(self, max_terms):\n",
    "        self.max_terms = max_terms\n",
    "        self.count = 0\n",
    "        self.a,self.b = 0,1\n",
    "    def __iter__(self):\n",
    "        return self\n",
    "    \n",
    "    def __next__(self):\n",
    "        if self.count >= self.max_terms: \n",
    "            raise StopIteration\n",
    "        current = self.a\n",
    "        self.a,self.b = self.b, self.a + self.b\n",
    "        self.count += 1 \n",
    "        return current\n",
    "\n",
    "obj = FiboIterator(10)\n",
    "for i in obj:\n",
    "    print(i, end= \" \")\n",
    "        \n",
    "    "
   ]
  },
  {
   "cell_type": "code",
   "execution_count": 21,
   "id": "39dcb856-cc73-43f2-beff-cbbf77db36b9",
   "metadata": {},
   "outputs": [
    {
     "name": "stdout",
     "output_type": "stream",
     "text": [
      "1 2 4 8 16 32 64 128 256 512 1024\n"
     ]
    }
   ],
   "source": [
    "# 6. Write a generator function in Python that yields the powers of 2 up to a given exponent.\n",
    "def power(exponent):\n",
    "    for i in range(exponent+1): \n",
    "        yield 2**i\n",
    "print(*power(10))"
   ]
  },
  {
   "cell_type": "code",
   "execution_count": 34,
   "id": "e01297ae-130e-4a65-bab0-f578cbe67eee",
   "metadata": {},
   "outputs": [
    {
     "name": "stdout",
     "output_type": "stream",
     "text": [
      "\n",
      "example1\n",
      "example2\n",
      "example3\n",
      "example4\n"
     ]
    }
   ],
   "source": [
    "#7. Implement a generator function that reads a file line by line and yields each line as a string.\n",
    "text_content =\"\"\"\n",
    "example1\n",
    "example2\n",
    "example3\n",
    "example4\n",
    "\"\"\"\n",
    "with open('example.txt','w') as file:\n",
    "    file.write(text_content)\n",
    "\n",
    "def line_by_line(filename):\n",
    "    with open (filename,'r') as file: \n",
    "        for line in file:\n",
    "            yield line.strip()\n",
    "\n",
    "filename = 'example.txt'\n",
    "for line in line_by_line(filename):\n",
    "    print(line)"
   ]
  },
  {
   "cell_type": "code",
   "execution_count": 36,
   "id": "c5c8d441-8826-48aa-a786-a4ce81133edb",
   "metadata": {},
   "outputs": [
    {
     "name": "stdout",
     "output_type": "stream",
     "text": [
      "[(5, 2), (2, 3), (1, 4), (8, 7)]\n"
     ]
    }
   ],
   "source": [
    "#8. Use a lambda function in Python to sort a list of tuples based on the second element of each tuple.\n",
    "data = [(1,4),(5,2),(8,7),(2,3)]\n",
    "sorted_data = sorted(data,key=lambda x: x[1])\n",
    "print(sorted_data)\n"
   ]
  },
  {
   "cell_type": "code",
   "execution_count": 9,
   "id": "77c71f91-83e4-4a23-b445-3a6117eccfdf",
   "metadata": {},
   "outputs": [
    {
     "name": "stdout",
     "output_type": "stream",
     "text": [
      "Temperatur in Fahrenheit ['32.0℉', '50.0℉', '59.0℉', '68.0℉', '77.0℉', '86.0℉']\n"
     ]
    }
   ],
   "source": [
    "#9. Write a Python program that uses `map()` to convert a list of temperatures from Celsius to Fahrenheit.\n",
    "def temperature_conv(celsius): \n",
    "    return f\"{(celsius*9/5)+32}℉\" \n",
    "celsius_temp = [0,10,15,20,25,30]\n",
    "conversion = list(map(temperature_conv,celsius_temp))\n",
    "print('Temperatur in Fahrenheit',conversion)"
   ]
  },
  {
   "cell_type": "code",
   "execution_count": 16,
   "id": "bcc2b657-f9f1-4076-a6a3-0bb20c578764",
   "metadata": {},
   "outputs": [
    {
     "name": "stdout",
     "output_type": "stream",
     "text": [
      " gt  flng n  smmr dy whn y wr gn\n"
     ]
    }
   ],
   "source": [
    "#10. Create a Python program that uses `filter()` to remove all the vowels from a given string. \n",
    "vowels = 'aeiou'\n",
    "input_string = \"I got a feeling on a summer day when you were gone\"\n",
    "stripper = \"\".join(filter(lambda char: char not in vowels, input_string.lower()))\n",
    "print(stripper)"
   ]
  },
  {
   "cell_type": "code",
   "execution_count": 3,
   "id": "b524d06e-5b9c-4d0f-87ed-48834d4ed7a9",
   "metadata": {},
   "outputs": [
    {
     "name": "stdout",
     "output_type": "stream",
     "text": [
      "[(34587, 163.8), (98762, 284.0), (77226, 108.85000000000001), (88112, 84.97)]\n"
     ]
    }
   ],
   "source": [
    "#11. Write a Python program, which returns a list with 2-tuples. Each tuple consists of the order number and the product of the price per item and the quantity. The product should be increased by 10,- € if the value of the order is smaller than 100,00 €.\n",
    "#Write a Python program using lambda and map.\n",
    "book_shop = [(34587,4,40.95),(98762,5,56.80),(77226,3,32.95),(88112,3,24.99)]\n",
    "product =list(map(lambda x: (x[0],x[1]*x[2] if x[1]*x[2]>= 100 else x[1]*x[2]+10),book_shop))\n",
    "print(product)"
   ]
  },
  {
   "cell_type": "code",
   "execution_count": null,
   "id": "f3d81df0-de2b-48ee-b9ce-15b180ca4d07",
   "metadata": {},
   "outputs": [],
   "source": []
  }
 ],
 "metadata": {
  "kernelspec": {
   "display_name": "Python 3 (ipykernel)",
   "language": "python",
   "name": "python3"
  },
  "language_info": {
   "codemirror_mode": {
    "name": "ipython",
    "version": 3
   },
   "file_extension": ".py",
   "mimetype": "text/x-python",
   "name": "python",
   "nbconvert_exporter": "python",
   "pygments_lexer": "ipython3",
   "version": "3.12.7"
  }
 },
 "nbformat": 4,
 "nbformat_minor": 5
}
